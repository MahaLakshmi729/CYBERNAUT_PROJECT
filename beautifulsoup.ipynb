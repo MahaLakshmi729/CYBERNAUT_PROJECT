{
  "nbformat": 4,
  "nbformat_minor": 0,
  "metadata": {
    "colab": {
      "provenance": []
    },
    "kernelspec": {
      "name": "python3",
      "display_name": "Python 3"
    },
    "language_info": {
      "name": "python"
    }
  },
  "cells": [
    {
      "cell_type": "code",
      "execution_count": null,
      "metadata": {
        "colab": {
          "base_uri": "https://localhost:8080/"
        },
        "id": "F2DpWh5km09U",
        "outputId": "17506922-668f-42ea-c689-7d151fda5714"
      },
      "outputs": [
        {
          "output_type": "stream",
          "name": "stdout",
          "text": [
            "Looking in indexes: https://pypi.org/simple, https://us-python.pkg.dev/colab-wheels/public/simple/\n",
            "Requirement already satisfied: beautifulsoup4 in /usr/local/lib/python3.8/dist-packages (4.6.3)\n"
          ]
        }
      ],
      "source": [
        "!pip install beautifulsoup4"
      ]
    },
    {
      "cell_type": "code",
      "source": [
        "!pip install requests"
      ],
      "metadata": {
        "colab": {
          "base_uri": "https://localhost:8080/"
        },
        "id": "7vIZvPC5nEPq",
        "outputId": "d328a398-00df-4718-85f7-320b8c1b1214"
      },
      "execution_count": null,
      "outputs": [
        {
          "output_type": "stream",
          "name": "stdout",
          "text": [
            "Looking in indexes: https://pypi.org/simple, https://us-python.pkg.dev/colab-wheels/public/simple/\n",
            "Requirement already satisfied: requests in /usr/local/lib/python3.8/dist-packages (2.25.1)\n",
            "Requirement already satisfied: idna<3,>=2.5 in /usr/local/lib/python3.8/dist-packages (from requests) (2.10)\n",
            "Requirement already satisfied: certifi>=2017.4.17 in /usr/local/lib/python3.8/dist-packages (from requests) (2022.12.7)\n",
            "Requirement already satisfied: urllib3<1.27,>=1.21.1 in /usr/local/lib/python3.8/dist-packages (from requests) (1.24.3)\n",
            "Requirement already satisfied: chardet<5,>=3.0.2 in /usr/local/lib/python3.8/dist-packages (from requests) (4.0.0)\n"
          ]
        }
      ]
    },
    {
      "cell_type": "code",
      "source": [
        "!pip install html5lib"
      ],
      "metadata": {
        "colab": {
          "base_uri": "https://localhost:8080/"
        },
        "id": "KS81pCjLnHDD",
        "outputId": "4ecf189e-5e8f-4446-cd7e-9ae7163cd765"
      },
      "execution_count": null,
      "outputs": [
        {
          "output_type": "stream",
          "name": "stdout",
          "text": [
            "Looking in indexes: https://pypi.org/simple, https://us-python.pkg.dev/colab-wheels/public/simple/\n",
            "Requirement already satisfied: html5lib in /usr/local/lib/python3.8/dist-packages (1.0.1)\n",
            "Requirement already satisfied: six>=1.9 in /usr/local/lib/python3.8/dist-packages (from html5lib) (1.15.0)\n",
            "Requirement already satisfied: webencodings in /usr/local/lib/python3.8/dist-packages (from html5lib) (0.5.1)\n"
          ]
        }
      ]
    },
    {
      "cell_type": "code",
      "source": [
        "from bs4 import BeautifulSoup\n",
        "import requests\n",
        "import html5lib"
      ],
      "metadata": {
        "id": "rjDdLk44y60x"
      },
      "execution_count": null,
      "outputs": []
    },
    {
      "cell_type": "code",
      "source": [
        "URL = \"https://open.spotify.com/\"\n",
        "r = requests.get(URL)"
      ],
      "metadata": {
        "id": "cUcwWlOHyvpm"
      },
      "execution_count": null,
      "outputs": []
    },
    {
      "cell_type": "code",
      "source": [
        "soup = BeautifulSoup(r.content, 'html5lib')"
      ],
      "metadata": {
        "id": "nfwnYhDtzbxg"
      },
      "execution_count": null,
      "outputs": []
    },
    {
      "cell_type": "code",
      "source": [
        "soup.prettify()"
      ],
      "metadata": {
        "colab": {
          "base_uri": "https://localhost:8080/",
          "height": 123
        },
        "id": "S7XyeoJrz0yE",
        "outputId": "fa3a0d1b-82ac-433e-eb59-7bc8723314f4"
      },
      "execution_count": null,
      "outputs": [
        {
          "output_type": "execute_result",
          "data": {
            "text/plain": [
              "'<!DOCTYPE html>\\n<html class=\"mobile-web-player\" dir=\"ltr\" lang=\"en\">\\n <head>\\n  <meta charset=\"utf-8\"/>\\n  <title>\\n   Spotify - Web Player: Music for everyone\\n  </title>\\n  <meta content=\"Spotify\" property=\"og:site_name\"/>\\n  <meta content=\"174829003346\" property=\"fb:app_id\"/>\\n  <link href=\"https://open.spotifycdn.com/cdn/images/favicon32.b64ecc03.png\" rel=\"icon\" sizes=\"32x32\" type=\"image/png\"/>\\n  <link href=\"https://open.spotifycdn.com/cdn/images/favicon16.1c487bff.png\" rel=\"icon\" sizes=\"16x16\" type=\"image/png\"/>\\n  <link href=\"https://open.spotifycdn.com/cdn/images/favicon.0f31d2ea.ico\" rel=\"icon\"/>\\n  <meta content=\"IE=9\" http-equiv=\"X-UA-Compatible\"/>\\n  <meta content=\"width=device-width, initial-scale=1, maximum-scale=1\" name=\"viewport\"/>\\n  <link as=\"font\" crossorigin=\"anonymous\" href=\"https://encore.scdn.co/fonts/CircularSp-Book-4eaffdf96f4c6f984686e93d5d9cb325.woff2\" rel=\"preload\" type=\"font/woff2\"/>\\n  <link as=\"font\" crossorigin=\"anonymous\" href=\"https://encore.scdn.co/fonts/CircularSp-Bold-fe1cfc14b7498b187c78fa72fb72d148.woff2\" rel=\"preload\" type=\"font/woff2\"/>\\n  <link as=\"font\" crossorigin=\"anonymous\" href=\"https://encore.scdn.co/fonts/CircularSpTitle-Bold-2fbf72b606d7f0b0f771ea4956a8b4d6.woff2\" rel=\"preload\" type=\"font/woff2\"/>\\n  <link as=\"font\" crossorigin=\"anonymous\" href=\"https://encore.scdn.co/fonts/CircularSpTitle-Black-3f9afb402080d53345ca1850226ca724.woff2\" rel=\"preload\" type=\"font/woff2\"/>\\n  <link as=\"font\" crossorigin=\"anonymous\" href=\"https://open.spotifycdn.com/cdn/fonts/spoticon_regular_2.d728648c.woff2\" rel=\"preload\" type=\"font/woff2\"/>\\n  <meta content=\"Spotify is a digital music service that gives you access to millions of songs.\" name=\"description\"/>\\n  <meta content=\"notranslate\" name=\"google\"/>\\n  <meta content=\"Spotify - Web Player: Music for everyone\" property=\"og:title\"/>\\n  <meta content=\"Spotify is a digital music service that gives you access to millions of songs.\" property=\"og:description\"/>\\n  <meta content=\"https://open.spotify.com/\" property=\"og:url\"/>\\n  <meta content=\"https://open.spotifycdn.com/cdn/images/og-image.548bc4b7.png\" property=\"og:image\"/>\\n  <meta content=\"website\" property=\"og:type\"/>\\n  <meta content=\"Spotify\" property=\"og:site_name\"/>\\n  <meta content=\"Spotify\" name=\"al:android:app_name\"/>\\n  <meta content=\"com.spotify.music\" name=\"al:android:package\"/>\\n  <meta content=\"spotify://\" name=\"al:android:url\"/>\\n  <meta content=\"Spotify\" name=\"al:ios:app_name\"/>\\n  <meta content=\"324684580\" name=\"al:ios:app_store_id\"/>\\n  <meta content=\"spotify://\" name=\"al:ios:url\"/>\\n  <meta content=\"@spotify\" name=\"twitter:site\"/>\\n  <meta content=\"Spotify - Web Player: Music for everyone\" name=\"twitter:title\"/>\\n  <meta content=\"Spotify is a digital music service that gives you access to millions of songs.\" name=\"twitter:description\"/>\\n  <meta content=\"https://open.spotifycdn.com/cdn/images/og-image.548bc4b7.png\" name=\"twitter:image\"/>\\n  <meta content=\"summary\" name=\"twitter:card\"/>\\n  <link href=\"https://open.spotify.com/\" rel=\"canonical\"/>\\n  <link href=\"https://open.spotify.com/\" hreflang=\"x-default\" rel=\"alternate\"/>\\n  <link href=\"https://open.spotify.com/\" hreflang=\"en\" rel=\"alternate\"/>\\n  <link href=\"android-app://com.spotify.music/\" rel=\"alternate\"/>\\n  <link href=\"https://open.spotifycdn.com/cdn/generated/manifest-mobile-web-player.a1ddf51c.json\" rel=\"manifest\"/>\\n  <style data-styled=\"active\">\\n  </style>\\n  <style data-styled=\"\" data-styled-version=\"5.3.6\">\\n   .gpPiwK{fill:var(--essential-base,#000000);-webkit-animation:oaGcb 1.32s linear infinite;animation:oaGcb 1.32s linear infinite;-webkit-transform-origin:center;-ms-transform-origin:center;transform-origin:center;}/*!sc*/\\n.gpPiwK:nth-of-type(2){-webkit-animation-delay:0.1s;animation-delay:0.1s;}/*!sc*/\\n.gpPiwK:nth-of-type(3){-webkit-animation-delay:0.2s;animation-delay:0.2s;}/*!sc*/\\n[dir=\\'rtl\\'] .LoadingIndicatorCircle-sc-enjajd-0:nth-of-type(1){-webkit-animation-delay:0.2s;animation-delay:0.2s;}/*!sc*/\\n[dir=\\'rtl\\'] .LoadingIndicatorCircle-sc-enjajd-0:nth-of-type(3){-webkit-animation-delay:0s;animation-delay:0s;}/*!sc*/\\ndata-styled.g31[id=\"LoadingIndicatorCircle-sc-enjajd-0\"]{content:\"gpPiwK,\"}/*!sc*/\\n.JQmZa{content:\\'\\';-webkit-block-size:18.666666666666668px;-ms-flex-block-size:18.666666666666668px;block-size:18.666666666666668px;inline-size:84px;}/*!sc*/\\ndata-styled.g32[id=\"LoadingIndicatorSvg-sc-dj4dcm-0\"]{content:\"JQmZa,\"}/*!sc*/\\n@-webkit-keyframes oaGcb{0%{-webkit-animation-timing-function:cubic-bezier(1,0,0.7,1);animation-timing-function:cubic-bezier(1,0,0.7,1);opacity:0.5;-webkit-transform:scale(1);-ms-transform:scale(1);transform:scale(1);}40%{-webkit-animation-timing-function:cubic-bezier(0.3,0,0,1);animation-timing-function:cubic-bezier(0.3,0,0,1);opacity:0.75;-webkit-transform:scale(1.3);-ms-transform:scale(1.3);transform:scale(1.3);}72.5%{-webkit-animation-timing-function:linear;animation-timing-function:linear;opacity:0.5;-webkit-transform:scale(1);-ms-transform:scale(1);transform:scale(1);}100%{opacity:0.5;-webkit-transform:scale(1);-ms-transform:scale(1);transform:scale(1);}}/*!sc*/\\n@keyframes oaGcb{0%{-webkit-animation-timing-function:cubic-bezier(1,0,0.7,1);animation-timing-function:cubic-bezier(1,0,0.7,1);opacity:0.5;-webkit-transform:scale(1);-ms-transform:scale(1);transform:scale(1);}40%{-webkit-animation-timing-function:cubic-bezier(0.3,0,0,1);animation-timing-function:cubic-bezier(0.3,0,0,1);opacity:0.75;-webkit-transform:scale(1.3);-ms-transform:scale(1.3);transform:scale(1.3);}72.5%{-webkit-animation-timing-function:linear;animation-timing-function:linear;opacity:0.5;-webkit-transform:scale(1);-ms-transform:scale(1);transform:scale(1);}100%{opacity:0.5;-webkit-transform:scale(1);-ms-transform:scale(1);transform:scale(1);}}/*!sc*/\\ndata-styled.g118[id=\"sc-keyframes-oaGcb\"]{content:\"oaGcb,\"}/*!sc*/\\n  </style>\\n  <link href=\"https://open.spotifycdn.com/cdn/build/mobile-web-player/mwp-artist-page.405d5b0f.css\" rel=\"stylesheet\"/>\\n  <link href=\"https://open.spotifycdn.com/cdn/build/mobile-web-player/mwp-dialog-container.656c585c.css\" rel=\"stylesheet\"/>\\n  <link href=\"https://open.spotifycdn.com/cdn/build/mobile-web-player/mwp-context-menu-container.dbfddf65.css\" rel=\"stylesheet\"/>\\n  <link href=\"https://open.spotifycdn.com/cdn/build/mobile-web-player/mwp-connect-view-container.1de5bfb2.css\" rel=\"stylesheet\"/>\\n  <link href=\"https://open.spotifycdn.com/cdn/build/mobile-web-player/mwp-now-playing-view.8092ac85.css\" rel=\"stylesheet\"/>\\n  <link href=\"https://open.spotifycdn.com/cdn/build/mobile-web-player/mwp-home.c82f3f4a.css\" rel=\"stylesheet\"/>\\n  <link href=\"https://open.spotifycdn.com/cdn/build/mobile-web-player/mobile-web-player.2fa5422b.css\" rel=\"stylesheet\"/>\\n  <link crossorigin=\"anonymous\" href=\"https://api.spotify.com\" rel=\"preconnect\"/>\\n  <link crossorigin=\"anonymous\" href=\"https://apresolve.spotify.com\" rel=\"preconnect\"/>\\n  <link crossorigin=\"anonymous\" href=\"https://daily-mix.scdn.co\" rel=\"preconnect\"/>\\n  <link crossorigin=\"anonymous\" href=\"https://exp.wg.spotify.com\" rel=\"preconnect\"/>\\n  <link crossorigin=\"anonymous\" href=\"https://i.scdn.co\" rel=\"preconnect\"/>\\n  <link crossorigin=\"anonymous\" href=\"https://lineup-images.scdn.co\" rel=\"preconnect\"/>\\n  <link crossorigin=\"anonymous\" href=\"https://mosaic.scdn.co\" rel=\"preconnect\"/>\\n  <link crossorigin=\"anonymous\" href=\"https://open.spotifycdn.com\" rel=\"preconnect\"/>\\n  <link crossorigin=\"anonymous\" href=\"https://pixel-static.spotify.com\" rel=\"preconnect\"/>\\n  <link crossorigin=\"anonymous\" href=\"https://pixel.spotify.com\" rel=\"preconnect\"/>\\n  <link crossorigin=\"anonymous\" href=\"https://pl.scdn.co\" rel=\"preconnect\"/>\\n  <link crossorigin=\"anonymous\" href=\"https://spclient.wg.spotify.com\" rel=\"preconnect\"/>\\n  <link crossorigin=\"anonymous\" href=\"https://open.spotifycdn.com\" rel=\"preconnect\"/>\\n  <link crossorigin=\"anonymous\" href=\"https://gue1-dealer.spotify.com\" rel=\"preconnect\"/>\\n  <link crossorigin=\"anonymous\" href=\"https://gue1-spclient.spotify.com\" rel=\"preconnect\"/>\\n  <link as=\"fetch\" crossorigin=\"anonymous\" data-translations-url-for-locale=\"en\" href=\"https://open.spotifycdn.com/cdn/generated-locales/mobile-web-player/en.f1a3268a.json\" rel=\"preload\" type=\"application/json\"/>\\n  <link href=\"https://open.spotifycdn.com/cdn/generated/opensearch.4cd8879e.xml\" rel=\"search\" title=\"Spotify\" type=\"application/opensearchdescription+xml\"/>\\n  <script defer=\"\" src=\"https://www.googleoptimize.com/optimize.js?id=GTM-W53X654\">\\n  </script>\\n  <script defer=\"\" src=\"https://open.spotifycdn.com/cdn/js/gtm.c527b62e.js\">\\n  </script>\\n  <script defer=\"\" src=\"https://open.spotifycdn.com/cdn/js/retargeting-pixels.c038ca53.js\">\\n  </script>\\n  <script crossorigin=\"anonymous\" defer=\"\" src=\"https://cdn.speedcurve.com/js/lux.js?id=4310329957\">\\n  </script>\\n </head>\\n <body class=\"mobile-web-player\">\\n  <script data-testid=\"config\" id=\"config\" type=\"application/json\">\\n   {\"appName\":\"web_player_prototype\",\"market\":\"US\",\"locale\":{\"locale\":\"en\",\"rtl\":false,\"textDirection\":\"ltr\"},\"isPremium\":false,\"correlationId\":\"25bd4be9f3f0abc9422be0d2d2b0c996\",\"isAnonymous\":true,\"gtmId\":\"GTM-PZHN3VD\",\"optimizeId\":\"GTM-W53X654\",\"babaExperiments\":\"\",\"retargetingPixels\":{\"twitter\":\"o46zp\",\"pinterest\":\"2617608197512\",\"snapchat\":\"fff7f198-e6aa-4833-b900-92d3854473b2\"},\"recaptchaWebPlayerFraudSiteKey\":\"6LfCVLAUAAAAALFwwRnnCJ12DalriUGbj8FW_J39\"}\\n  </script>\\n  <script data-testid=\"session\" id=\"session\" type=\"application/json\">\\n   {\"accessToken\":\"BQA32B1-IVSFbyfSUbP735S5ZSj_-dOtoO769qKgKpZ1DFUWQZD_2YYzJl3Qn5Z1rqcfyGi2IsE7_-ihHvfyIH8hU0YIvuMNhBEdrFqONuLv5ugonfA0\",\"accessTokenExpirationTimestampMs\":1677408382865,\"isAnonymous\":true,\"clientId\":\"f6a40776580943a7bc5173125a1e8832\"}\\n  </script>\\n  <div data-ssr=\"1\" id=\"main\">\\n   <div class=\"ufy3rNNsNBx6IOixSXEG\">\\n    <div class=\"encore-dark-theme xXxkvFpB54Fne7ykRnXa\" data-main-scrollable-node=\"true\">\\n     <div class=\"Cv2QMWaKhio30Ly6ooMy\" style=\"--main-content-bottom-padding:0px\">\\n      <div class=\"N8Y7zyujdw_MlBnmaXpX\" style=\"padding-bottom:0px\">\\n       <div class=\"XOErnGrVFhfEECdqd8pQ\">\\n        <svg aria-label=\"Just a moment...\" aria-valuetext=\"Just a moment...\" class=\"LoadingIndicatorSvg-sc-dj4dcm-0 JQmZa\" data-encore-id=\"loadingIndicator\" data-testid=\"loading-indicator\" role=\"progressbar\" viewBox=\"0 0 1 100\" x=\"0px\" xml:space=\"preserve\" xmlns=\"http://www.w3.org/2000/svg\" y=\"0px\">\\n         <circle class=\"LoadingIndicatorCircle-sc-enjajd-0 gpPiwK\" cx=\"-140\" cy=\"50\" r=\"32\" stroke=\"none\">\\n         </circle>\\n         <circle class=\"LoadingIndicatorCircle-sc-enjajd-0 gpPiwK\" cx=\"0\" cy=\"50\" r=\"32\" stroke=\"none\">\\n         </circle>\\n         <circle class=\"LoadingIndicatorCircle-sc-enjajd-0 gpPiwK\" cx=\"140\" cy=\"50\" r=\"32\" stroke=\"none\">\\n         </circle>\\n        </svg>\\n       </div>\\n       <div>\\n       </div>\\n      </div>\\n      <div class=\"vd33aGV31wsh783ydgwm\">\\n      </div>\\n     </div>\\n    </div>\\n   </div>\\n   <aside class=\"encore-dark-theme K0BwL1fSV9G70SFJZWfb\">\\n    <div>\\n    </div>\\n   </aside>\\n  </div>\\n  <script id=\"initial-state\" type=\"text/plain\">\\n   eyJzZXNzaW9uIjp7Im1lIjpudWxsLCJwcm9kdWN0Ijp7ImFkcyI6IjAiLCJjYXRhbG9ndWUiOiJwcmVtaXVtIiwiY291bnRyeSI6IlVTIiwicHJlZmVycmVkLWxvY2FsZSI6ImVuIiwicHJvZHVjdCI6InByZW1pdW0iLCJvbi1kZW1hbmQiOiIxIn0sImxvY2FsZSI6ImVuIiwidGV4dERpcmVjdGlvbmFsaXR5IjoibHRyIiwiaXNBbm9ueW1vdXMiOnRydWUsImZlYXR1cmVzIjp7ImVuYWJsZVNob3dzIjp0cnVlLCJpc1RyYWNpbmdFbmFibGVkIjpmYWxzZSwidXBncmFkZUJ1dHRvbiI6ImNvbnRyb2wiLCJtd3AiOnRydWUsImlzTVdQRXJyb3JDb2RlRW5hYmxlZCI6ZmFsc2UsImlzTXdwUmFkaW9FbnRpdHkiOnRydWUsImlzTVdQQW5kUGxheWJhY2tDYXBhYmxlIjpmYWxzZSwicHJlYXV0aFJlY2FwdGNoYSI6ZmFsc2UsImlzRXF1YWxpemVyQUJFbmFibGVkIjpmYWxzZSwiaXNOZXdIb21lRW5hYmxlZCI6ZmFsc2UsImlzUmljaEFsYnVtUGFnZXNFbmFibGVkIjpmYWxzZSwiaXNQb2RjYXN0RW5hYmxlZCI6dHJ1ZSwiaXNQb2RjYXN0U2VvRW5hYmxlZCI6ZmFsc2UsImVuYWJsZUkxOG5Mb2NhbGVzIjpmYWxzZSwiZW5hYmxlQWxidW1BbmRUcmFja0Nhbm9uaWNhbHMiOmZhbHNlLCJpc0F1ZGlvYm9va3NPbk1XUEVuYWJsZWQiOnRydWUsImlzUGF0aGZpbmRlckJyb3dzZUNhcmRzRW5hYmxlZCI6ZmFsc2UsImlzUmVpbnZlbnRGcmVlRW5hYmxlZCI6ZmFsc2UsImlzTXlMaWJyYXJ5RW5hYmxlZCI6ZmFsc2UsImlzVXBzZWxsRW5kVHJpZ2dlckVuYWJsZWQiOmZhbHNlLCJpc1JUUEZlYXR1cmVkQXJ0aXN0c0VuYWJsZWQiOmZhbHNlLCJpc1JUUFRyYWNrQ3JlZGl0c0VuYWJsZWQiOmZhbHNlLCJpc0JsZW5kUGFydHlFbmFibGVkIjp0cnVlLCJpc0JsZW5kUGFydHlWMkVuYWJsZWQiOmZhbHNlLCJpc0VudGl0eVJlcG9ydEVuYWJsZWQiOnRydWUsImlzQWxidW1SZXBvcnRFbmFibGVkIjpmYWxzZSwiaXNUcmFja1JlcG9ydEVuYWJsZWQiOmZhbHNlLCJpc1BvZGNhc3RTaG93UmVwb3J0RW5hYmxlZCI6ZmFsc2UsImlzUG9kY2FzdEVwaXNvZGVSZXBvcnRFbmFibGVkIjpmYWxzZSwiaXNEb3dubG9hZEJyYW5jaExpbmtFbmFibGVkIjpmYWxzZSwidXBncmFkZU92ZXJBcHAiOmZhbHNlLCJ1cGdyYWRlT3ZlclNpZ251cEJhbm5lciI6ZmFsc2UsInVwZ3JhZGVPdmVyU2lnbnVwQmFubmVyVHdvIjpmYWxzZSwibXVzaWNDbGlwcyI6IjAiLCJ1Z29BQUFXZWJQbGF5ZXIiOmZhbHNlLCJ1Z29BQUFXZWJQbGF5ZXJUd28iOmZhbHNlfSwiY291bnRyeSI6IlVTIiwiYnJvd3Nlck9TIjoiYW5kcm9pZCIsImNhbkdvQmFjayI6ZmFsc2UsImNhbkdvRm9yd2FyZCI6ZmFsc2V9LCJjb25uZWN0Ijp7ImRldmljZSI6bnVsbCwiZGV2aWNlcyI6W10sIm1hbnVhbFRyYW5zZmVyRGV2aWNlSWQiOm51bGx9LCJlbnRpdGllcyI6eyJpdGVtcyI6e30sInJlY29tbWVuZGF0aW9ucyI6e30sInNhdmVkIjp7fSwidHJhY2tDbG91ZCI6e30sInNlb0V4cGVyaW1lbnQiOnt9fSwicGxheWJhY2siOnsiY3VycmVudCI6bnVsbCwiaGFzU2tpcHBlZFRoaXNTZXNzaW9uIjpmYWxzZSwiaXNCdWZmZXJpbmciOmZhbHNlLCJoZWFyZEF1ZGlvIjpmYWxzZSwiaW5pdGlhdGVkUGxheWJhY2siOmZhbHNlfSwicmVxdWVzdCI6eyJoYXNQcmV2aW91c0xpa2VzIjpmYWxzZSwiaXNCYW5uZWQiOmZhbHNlLCJlbnRpdHlWaWV3IjpudWxsLCJhbGJ1bVVyaSI6IiJ9LCJzZWFyY2giOnsiaXNGZXRjaGluZyI6ZmFsc2UsInJlc3VsdHMiOm51bGwsInF1ZXJ5IjpudWxsLCJlcnJvciI6bnVsbCwicmVjZW50U2VhcmNoZXMiOltdfSwidG9hc3QiOnsibWVzc2FnZSI6bnVsbCwidHlwZSI6ImRlZmF1bHQiLCJhY3Rpb24iOm51bGx9LCJ1aSI6eyJtb2RhbCI6Im5vd19wbGF5aW5nX2JhciIsIm5vd1BsYXlpbmdWaWV3IjpmYWxzZSwiZGlhbG9nIjpudWxsLCJlcnJvclZpZXciOmZhbHNlfSwib25EZW1hbmQiOnsibGFuZGluZ1VyaSI6bnVsbH0sIkEySFMiOnsiYXBwSW5zdGFsbGVkIjpmYWxzZSwiaW5zdGFsbFJlYWR5IjpmYWxzZX0sImhvbWVMZWdhY3kiOnsibG9hZGluZyI6eyJsb2FkaW5nIjp0cnVlfSwidW5yZWNvdmVyYWJsZUVycm9yIjpmYWxzZSwiaHVicyI6e30sIml0ZW1zIjp7fSwiZG9taW5hbnRDb2xvciI6bnVsbCwiYmFja2dyb3VuZENvbG9yU291cmNlSW1hZ2UiOiIifSwiaG9tZSI6eyJpc0xvYWRpbmciOmZhbHNlLCJoYXNFcnJvciI6ZmFsc2UsInNlY3Rpb25zIjpbXX0sIm9uRGVtYW5kUGxheWxpc3RzIjp7ImZldGNoZWQiOmZhbHNlLCJpdGVtcyI6W119LCJjb250ZXh0TWVudSI6eyJpc1Zpc2libGUiOmZhbHNlLCJ0cmFja3MiOnt9fSwiY29sb3JFeHRyYWN0aW9uIjp7ImNvbG9ycyI6e319LCJnZW5yZSI6eyJpc0xvYWRpbmciOmZhbHNlLCJiYWNrZ3JvdW5kQ29sb3JTb3VyY2VJbWFnZSI6IiIsImlzQW5vbnltb3VzIjp0cnVlfSwibHlyaWNzIjp7InN0YXR1cyI6IlVOQVZBSUxBQkxFIn0sInJpY2hFbnRpdGllcyI6eyJhbGJ1bSI6eyJzdGF0dXMiOiJVTkFWQUlMQUJMRSJ9LCJ0cmFja0FydGlzdHMiOnsic3RhdHVzIjoiVU5BVkFJTEFCTEUifSwic2VvRXhwZXJpbWVudCI6e319LCJicm93c2UiOnsiZ3JpZCI6eyJpc0xvYWRpbmciOmZhbHNlLCJzZWN0aW9ucyI6bnVsbH0sInBhZ2VzIjp7fX19\\n  </script>\\n  <script id=\"remote-configuration\" type=\"text/plain\">\\n   eyIjdiI6IjEiLCJlbmFibGVBdWRpb2Jvb2tzR2F0ZWRFeHBlcmllbmNlIjp0cnVlLCJlbmFibGVCbGVuZFBhcnR5Ijp0cnVlLCIjY29uZmlndXJhdGlvbkFzc2lnbm1lbnRJZCI6ImFiYzE0YzlmLWU3YzEtYTQ2NC00ZjU5LWRmYzA5YjgzNDMxNyIsIiNncm91cElkcyI6eyJlbmFibGVVcHNlbGxFbmRUcmlnZ2VyIjoxMDg2ODczLCJlbmFibGVBdWRpb2Jvb2tzR2F0ZWRFeHBlcmllbmNlIjoxMDY4NzMyLCJlbmFibGVCbGVuZFBhcnR5IjoxMDg1NjExfSwiI2ZldGNoVGltZU1pbGxpcyI6MTY3NzQwNjg1NjkwNCwiI2NvbnRleHRIYXNoIjoiYTdmZjIxNTJkM2QzOTQ2OSJ9\\n  </script>\\n  <script src=\"https://open.spotifycdn.com/cdn/build/mobile-web-player/mobile-web-player.74557cb7.js\">\\n  </script>\\n  <script src=\"https://open.spotifycdn.com/cdn/build/mobile-web-player/vendor~mobile-web-player.cc22e0cb.js\">\\n  </script>\\n </body>\\n</html>'"
            ],
            "application/vnd.google.colaboratory.intrinsic+json": {
              "type": "string"
            }
          },
          "metadata": {},
          "execution_count": 50
        }
      ]
    },
    {
      "cell_type": "code",
      "source": [
        "print(soup.prettify())"
      ],
      "metadata": {
        "colab": {
          "base_uri": "https://localhost:8080/"
        },
        "id": "Ztq-SYLg0O4-",
        "outputId": "88b830a0-5230-46a6-b2f4-3a82fbffd19f"
      },
      "execution_count": null,
      "outputs": [
        {
          "output_type": "stream",
          "name": "stdout",
          "text": [
            "<!DOCTYPE html>\n",
            "<html class=\"mobile-web-player\" dir=\"ltr\" lang=\"en\">\n",
            " <head>\n",
            "  <meta charset=\"utf-8\"/>\n",
            "  <title>\n",
            "   Spotify - Web Player: Music for everyone\n",
            "  </title>\n",
            "  <meta content=\"Spotify\" property=\"og:site_name\"/>\n",
            "  <meta content=\"174829003346\" property=\"fb:app_id\"/>\n",
            "  <link href=\"https://open.spotifycdn.com/cdn/images/favicon32.b64ecc03.png\" rel=\"icon\" sizes=\"32x32\" type=\"image/png\"/>\n",
            "  <link href=\"https://open.spotifycdn.com/cdn/images/favicon16.1c487bff.png\" rel=\"icon\" sizes=\"16x16\" type=\"image/png\"/>\n",
            "  <link href=\"https://open.spotifycdn.com/cdn/images/favicon.0f31d2ea.ico\" rel=\"icon\"/>\n",
            "  <meta content=\"IE=9\" http-equiv=\"X-UA-Compatible\"/>\n",
            "  <meta content=\"width=device-width, initial-scale=1, maximum-scale=1\" name=\"viewport\"/>\n",
            "  <link as=\"font\" crossorigin=\"anonymous\" href=\"https://encore.scdn.co/fonts/CircularSp-Book-4eaffdf96f4c6f984686e93d5d9cb325.woff2\" rel=\"preload\" type=\"font/woff2\"/>\n",
            "  <link as=\"font\" crossorigin=\"anonymous\" href=\"https://encore.scdn.co/fonts/CircularSp-Bold-fe1cfc14b7498b187c78fa72fb72d148.woff2\" rel=\"preload\" type=\"font/woff2\"/>\n",
            "  <link as=\"font\" crossorigin=\"anonymous\" href=\"https://encore.scdn.co/fonts/CircularSpTitle-Bold-2fbf72b606d7f0b0f771ea4956a8b4d6.woff2\" rel=\"preload\" type=\"font/woff2\"/>\n",
            "  <link as=\"font\" crossorigin=\"anonymous\" href=\"https://encore.scdn.co/fonts/CircularSpTitle-Black-3f9afb402080d53345ca1850226ca724.woff2\" rel=\"preload\" type=\"font/woff2\"/>\n",
            "  <link as=\"font\" crossorigin=\"anonymous\" href=\"https://open.spotifycdn.com/cdn/fonts/spoticon_regular_2.d728648c.woff2\" rel=\"preload\" type=\"font/woff2\"/>\n",
            "  <meta content=\"Spotify is a digital music service that gives you access to millions of songs.\" name=\"description\"/>\n",
            "  <meta content=\"notranslate\" name=\"google\"/>\n",
            "  <meta content=\"Spotify - Web Player: Music for everyone\" property=\"og:title\"/>\n",
            "  <meta content=\"Spotify is a digital music service that gives you access to millions of songs.\" property=\"og:description\"/>\n",
            "  <meta content=\"https://open.spotify.com/\" property=\"og:url\"/>\n",
            "  <meta content=\"https://open.spotifycdn.com/cdn/images/og-image.548bc4b7.png\" property=\"og:image\"/>\n",
            "  <meta content=\"website\" property=\"og:type\"/>\n",
            "  <meta content=\"Spotify\" property=\"og:site_name\"/>\n",
            "  <meta content=\"Spotify\" name=\"al:android:app_name\"/>\n",
            "  <meta content=\"com.spotify.music\" name=\"al:android:package\"/>\n",
            "  <meta content=\"spotify://\" name=\"al:android:url\"/>\n",
            "  <meta content=\"Spotify\" name=\"al:ios:app_name\"/>\n",
            "  <meta content=\"324684580\" name=\"al:ios:app_store_id\"/>\n",
            "  <meta content=\"spotify://\" name=\"al:ios:url\"/>\n",
            "  <meta content=\"@spotify\" name=\"twitter:site\"/>\n",
            "  <meta content=\"Spotify - Web Player: Music for everyone\" name=\"twitter:title\"/>\n",
            "  <meta content=\"Spotify is a digital music service that gives you access to millions of songs.\" name=\"twitter:description\"/>\n",
            "  <meta content=\"https://open.spotifycdn.com/cdn/images/og-image.548bc4b7.png\" name=\"twitter:image\"/>\n",
            "  <meta content=\"summary\" name=\"twitter:card\"/>\n",
            "  <link href=\"https://open.spotify.com/\" rel=\"canonical\"/>\n",
            "  <link href=\"https://open.spotify.com/\" hreflang=\"x-default\" rel=\"alternate\"/>\n",
            "  <link href=\"https://open.spotify.com/\" hreflang=\"en\" rel=\"alternate\"/>\n",
            "  <link href=\"android-app://com.spotify.music/\" rel=\"alternate\"/>\n",
            "  <link href=\"https://open.spotifycdn.com/cdn/generated/manifest-mobile-web-player.a1ddf51c.json\" rel=\"manifest\"/>\n",
            "  <style data-styled=\"active\">\n",
            "  </style>\n",
            "  <style data-styled=\"\" data-styled-version=\"5.3.6\">\n",
            "   .gpPiwK{fill:var(--essential-base,#000000);-webkit-animation:oaGcb 1.32s linear infinite;animation:oaGcb 1.32s linear infinite;-webkit-transform-origin:center;-ms-transform-origin:center;transform-origin:center;}/*!sc*/\n",
            ".gpPiwK:nth-of-type(2){-webkit-animation-delay:0.1s;animation-delay:0.1s;}/*!sc*/\n",
            ".gpPiwK:nth-of-type(3){-webkit-animation-delay:0.2s;animation-delay:0.2s;}/*!sc*/\n",
            "[dir='rtl'] .LoadingIndicatorCircle-sc-enjajd-0:nth-of-type(1){-webkit-animation-delay:0.2s;animation-delay:0.2s;}/*!sc*/\n",
            "[dir='rtl'] .LoadingIndicatorCircle-sc-enjajd-0:nth-of-type(3){-webkit-animation-delay:0s;animation-delay:0s;}/*!sc*/\n",
            "data-styled.g31[id=\"LoadingIndicatorCircle-sc-enjajd-0\"]{content:\"gpPiwK,\"}/*!sc*/\n",
            ".JQmZa{content:'';-webkit-block-size:18.666666666666668px;-ms-flex-block-size:18.666666666666668px;block-size:18.666666666666668px;inline-size:84px;}/*!sc*/\n",
            "data-styled.g32[id=\"LoadingIndicatorSvg-sc-dj4dcm-0\"]{content:\"JQmZa,\"}/*!sc*/\n",
            "@-webkit-keyframes oaGcb{0%{-webkit-animation-timing-function:cubic-bezier(1,0,0.7,1);animation-timing-function:cubic-bezier(1,0,0.7,1);opacity:0.5;-webkit-transform:scale(1);-ms-transform:scale(1);transform:scale(1);}40%{-webkit-animation-timing-function:cubic-bezier(0.3,0,0,1);animation-timing-function:cubic-bezier(0.3,0,0,1);opacity:0.75;-webkit-transform:scale(1.3);-ms-transform:scale(1.3);transform:scale(1.3);}72.5%{-webkit-animation-timing-function:linear;animation-timing-function:linear;opacity:0.5;-webkit-transform:scale(1);-ms-transform:scale(1);transform:scale(1);}100%{opacity:0.5;-webkit-transform:scale(1);-ms-transform:scale(1);transform:scale(1);}}/*!sc*/\n",
            "@keyframes oaGcb{0%{-webkit-animation-timing-function:cubic-bezier(1,0,0.7,1);animation-timing-function:cubic-bezier(1,0,0.7,1);opacity:0.5;-webkit-transform:scale(1);-ms-transform:scale(1);transform:scale(1);}40%{-webkit-animation-timing-function:cubic-bezier(0.3,0,0,1);animation-timing-function:cubic-bezier(0.3,0,0,1);opacity:0.75;-webkit-transform:scale(1.3);-ms-transform:scale(1.3);transform:scale(1.3);}72.5%{-webkit-animation-timing-function:linear;animation-timing-function:linear;opacity:0.5;-webkit-transform:scale(1);-ms-transform:scale(1);transform:scale(1);}100%{opacity:0.5;-webkit-transform:scale(1);-ms-transform:scale(1);transform:scale(1);}}/*!sc*/\n",
            "data-styled.g118[id=\"sc-keyframes-oaGcb\"]{content:\"oaGcb,\"}/*!sc*/\n",
            "  </style>\n",
            "  <link href=\"https://open.spotifycdn.com/cdn/build/mobile-web-player/mwp-artist-page.405d5b0f.css\" rel=\"stylesheet\"/>\n",
            "  <link href=\"https://open.spotifycdn.com/cdn/build/mobile-web-player/mwp-dialog-container.656c585c.css\" rel=\"stylesheet\"/>\n",
            "  <link href=\"https://open.spotifycdn.com/cdn/build/mobile-web-player/mwp-context-menu-container.dbfddf65.css\" rel=\"stylesheet\"/>\n",
            "  <link href=\"https://open.spotifycdn.com/cdn/build/mobile-web-player/mwp-connect-view-container.1de5bfb2.css\" rel=\"stylesheet\"/>\n",
            "  <link href=\"https://open.spotifycdn.com/cdn/build/mobile-web-player/mwp-now-playing-view.8092ac85.css\" rel=\"stylesheet\"/>\n",
            "  <link href=\"https://open.spotifycdn.com/cdn/build/mobile-web-player/mwp-home.c82f3f4a.css\" rel=\"stylesheet\"/>\n",
            "  <link href=\"https://open.spotifycdn.com/cdn/build/mobile-web-player/mobile-web-player.2fa5422b.css\" rel=\"stylesheet\"/>\n",
            "  <link crossorigin=\"anonymous\" href=\"https://api.spotify.com\" rel=\"preconnect\"/>\n",
            "  <link crossorigin=\"anonymous\" href=\"https://apresolve.spotify.com\" rel=\"preconnect\"/>\n",
            "  <link crossorigin=\"anonymous\" href=\"https://daily-mix.scdn.co\" rel=\"preconnect\"/>\n",
            "  <link crossorigin=\"anonymous\" href=\"https://exp.wg.spotify.com\" rel=\"preconnect\"/>\n",
            "  <link crossorigin=\"anonymous\" href=\"https://i.scdn.co\" rel=\"preconnect\"/>\n",
            "  <link crossorigin=\"anonymous\" href=\"https://lineup-images.scdn.co\" rel=\"preconnect\"/>\n",
            "  <link crossorigin=\"anonymous\" href=\"https://mosaic.scdn.co\" rel=\"preconnect\"/>\n",
            "  <link crossorigin=\"anonymous\" href=\"https://open.spotifycdn.com\" rel=\"preconnect\"/>\n",
            "  <link crossorigin=\"anonymous\" href=\"https://pixel-static.spotify.com\" rel=\"preconnect\"/>\n",
            "  <link crossorigin=\"anonymous\" href=\"https://pixel.spotify.com\" rel=\"preconnect\"/>\n",
            "  <link crossorigin=\"anonymous\" href=\"https://pl.scdn.co\" rel=\"preconnect\"/>\n",
            "  <link crossorigin=\"anonymous\" href=\"https://spclient.wg.spotify.com\" rel=\"preconnect\"/>\n",
            "  <link crossorigin=\"anonymous\" href=\"https://open.spotifycdn.com\" rel=\"preconnect\"/>\n",
            "  <link crossorigin=\"anonymous\" href=\"https://gue1-dealer.spotify.com\" rel=\"preconnect\"/>\n",
            "  <link crossorigin=\"anonymous\" href=\"https://gue1-spclient.spotify.com\" rel=\"preconnect\"/>\n",
            "  <link as=\"fetch\" crossorigin=\"anonymous\" data-translations-url-for-locale=\"en\" href=\"https://open.spotifycdn.com/cdn/generated-locales/mobile-web-player/en.f1a3268a.json\" rel=\"preload\" type=\"application/json\"/>\n",
            "  <link href=\"https://open.spotifycdn.com/cdn/generated/opensearch.4cd8879e.xml\" rel=\"search\" title=\"Spotify\" type=\"application/opensearchdescription+xml\"/>\n",
            "  <script defer=\"\" src=\"https://www.googleoptimize.com/optimize.js?id=GTM-W53X654\">\n",
            "  </script>\n",
            "  <script defer=\"\" src=\"https://open.spotifycdn.com/cdn/js/gtm.c527b62e.js\">\n",
            "  </script>\n",
            "  <script defer=\"\" src=\"https://open.spotifycdn.com/cdn/js/retargeting-pixels.c038ca53.js\">\n",
            "  </script>\n",
            "  <script crossorigin=\"anonymous\" defer=\"\" src=\"https://cdn.speedcurve.com/js/lux.js?id=4310329957\">\n",
            "  </script>\n",
            " </head>\n",
            " <body class=\"mobile-web-player\">\n",
            "  <script data-testid=\"config\" id=\"config\" type=\"application/json\">\n",
            "   {\"appName\":\"web_player_prototype\",\"market\":\"US\",\"locale\":{\"locale\":\"en\",\"rtl\":false,\"textDirection\":\"ltr\"},\"isPremium\":false,\"correlationId\":\"25bd4be9f3f0abc9422be0d2d2b0c996\",\"isAnonymous\":true,\"gtmId\":\"GTM-PZHN3VD\",\"optimizeId\":\"GTM-W53X654\",\"babaExperiments\":\"\",\"retargetingPixels\":{\"twitter\":\"o46zp\",\"pinterest\":\"2617608197512\",\"snapchat\":\"fff7f198-e6aa-4833-b900-92d3854473b2\"},\"recaptchaWebPlayerFraudSiteKey\":\"6LfCVLAUAAAAALFwwRnnCJ12DalriUGbj8FW_J39\"}\n",
            "  </script>\n",
            "  <script data-testid=\"session\" id=\"session\" type=\"application/json\">\n",
            "   {\"accessToken\":\"BQA32B1-IVSFbyfSUbP735S5ZSj_-dOtoO769qKgKpZ1DFUWQZD_2YYzJl3Qn5Z1rqcfyGi2IsE7_-ihHvfyIH8hU0YIvuMNhBEdrFqONuLv5ugonfA0\",\"accessTokenExpirationTimestampMs\":1677408382865,\"isAnonymous\":true,\"clientId\":\"f6a40776580943a7bc5173125a1e8832\"}\n",
            "  </script>\n",
            "  <div data-ssr=\"1\" id=\"main\">\n",
            "   <div class=\"ufy3rNNsNBx6IOixSXEG\">\n",
            "    <div class=\"encore-dark-theme xXxkvFpB54Fne7ykRnXa\" data-main-scrollable-node=\"true\">\n",
            "     <div class=\"Cv2QMWaKhio30Ly6ooMy\" style=\"--main-content-bottom-padding:0px\">\n",
            "      <div class=\"N8Y7zyujdw_MlBnmaXpX\" style=\"padding-bottom:0px\">\n",
            "       <div class=\"XOErnGrVFhfEECdqd8pQ\">\n",
            "        <svg aria-label=\"Just a moment...\" aria-valuetext=\"Just a moment...\" class=\"LoadingIndicatorSvg-sc-dj4dcm-0 JQmZa\" data-encore-id=\"loadingIndicator\" data-testid=\"loading-indicator\" role=\"progressbar\" viewBox=\"0 0 1 100\" x=\"0px\" xml:space=\"preserve\" xmlns=\"http://www.w3.org/2000/svg\" y=\"0px\">\n",
            "         <circle class=\"LoadingIndicatorCircle-sc-enjajd-0 gpPiwK\" cx=\"-140\" cy=\"50\" r=\"32\" stroke=\"none\">\n",
            "         </circle>\n",
            "         <circle class=\"LoadingIndicatorCircle-sc-enjajd-0 gpPiwK\" cx=\"0\" cy=\"50\" r=\"32\" stroke=\"none\">\n",
            "         </circle>\n",
            "         <circle class=\"LoadingIndicatorCircle-sc-enjajd-0 gpPiwK\" cx=\"140\" cy=\"50\" r=\"32\" stroke=\"none\">\n",
            "         </circle>\n",
            "        </svg>\n",
            "       </div>\n",
            "       <div>\n",
            "       </div>\n",
            "      </div>\n",
            "      <div class=\"vd33aGV31wsh783ydgwm\">\n",
            "      </div>\n",
            "     </div>\n",
            "    </div>\n",
            "   </div>\n",
            "   <aside class=\"encore-dark-theme K0BwL1fSV9G70SFJZWfb\">\n",
            "    <div>\n",
            "    </div>\n",
            "   </aside>\n",
            "  </div>\n",
            "  <script id=\"initial-state\" type=\"text/plain\">\n",
            "   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\n",
            "  </script>\n",
            "  <script id=\"remote-configuration\" type=\"text/plain\">\n",
            "   eyIjdiI6IjEiLCJlbmFibGVBdWRpb2Jvb2tzR2F0ZWRFeHBlcmllbmNlIjp0cnVlLCJlbmFibGVCbGVuZFBhcnR5Ijp0cnVlLCIjY29uZmlndXJhdGlvbkFzc2lnbm1lbnRJZCI6ImFiYzE0YzlmLWU3YzEtYTQ2NC00ZjU5LWRmYzA5YjgzNDMxNyIsIiNncm91cElkcyI6eyJlbmFibGVVcHNlbGxFbmRUcmlnZ2VyIjoxMDg2ODczLCJlbmFibGVBdWRpb2Jvb2tzR2F0ZWRFeHBlcmllbmNlIjoxMDY4NzMyLCJlbmFibGVCbGVuZFBhcnR5IjoxMDg1NjExfSwiI2ZldGNoVGltZU1pbGxpcyI6MTY3NzQwNjg1NjkwNCwiI2NvbnRleHRIYXNoIjoiYTdmZjIxNTJkM2QzOTQ2OSJ9\n",
            "  </script>\n",
            "  <script src=\"https://open.spotifycdn.com/cdn/build/mobile-web-player/mobile-web-player.74557cb7.js\">\n",
            "  </script>\n",
            "  <script src=\"https://open.spotifycdn.com/cdn/build/mobile-web-player/vendor~mobile-web-player.cc22e0cb.js\">\n",
            "  </script>\n",
            " </body>\n",
            "</html>\n"
          ]
        }
      ]
    },
    {
      "cell_type": "code",
      "source": [
        "print(soup.title)"
      ],
      "metadata": {
        "colab": {
          "base_uri": "https://localhost:8080/"
        },
        "id": "M7igFw2Y06Tf",
        "outputId": "1f425d9d-c91e-49cb-a736-8550af7e3549"
      },
      "execution_count": null,
      "outputs": [
        {
          "output_type": "stream",
          "name": "stdout",
          "text": [
            "<title>Spotify - Web Player: Music for everyone</title>\n"
          ]
        }
      ]
    },
    {
      "cell_type": "code",
      "source": [
        "print(soup.head)"
      ],
      "metadata": {
        "id": "4xUBHFi_0_oJ",
        "outputId": "56d8ca3c-e50a-450f-a860-8620dc982830",
        "colab": {
          "base_uri": "https://localhost:8080/"
        }
      },
      "execution_count": null,
      "outputs": [
        {
          "output_type": "stream",
          "name": "stdout",
          "text": [
            "<head><meta charset=\"utf-8\"/><title>Spotify - Web Player: Music for everyone</title><meta content=\"Spotify\" property=\"og:site_name\"/><meta content=\"174829003346\" property=\"fb:app_id\"/><link href=\"https://open.spotifycdn.com/cdn/images/favicon32.b64ecc03.png\" rel=\"icon\" sizes=\"32x32\" type=\"image/png\"/><link href=\"https://open.spotifycdn.com/cdn/images/favicon16.1c487bff.png\" rel=\"icon\" sizes=\"16x16\" type=\"image/png\"/><link href=\"https://open.spotifycdn.com/cdn/images/favicon.0f31d2ea.ico\" rel=\"icon\"/><meta content=\"IE=9\" http-equiv=\"X-UA-Compatible\"/><meta content=\"width=device-width, initial-scale=1, maximum-scale=1\" name=\"viewport\"/><link as=\"font\" crossorigin=\"anonymous\" href=\"https://encore.scdn.co/fonts/CircularSp-Book-4eaffdf96f4c6f984686e93d5d9cb325.woff2\" rel=\"preload\" type=\"font/woff2\"/><link as=\"font\" crossorigin=\"anonymous\" href=\"https://encore.scdn.co/fonts/CircularSp-Bold-fe1cfc14b7498b187c78fa72fb72d148.woff2\" rel=\"preload\" type=\"font/woff2\"/><link as=\"font\" crossorigin=\"anonymous\" href=\"https://encore.scdn.co/fonts/CircularSpTitle-Bold-2fbf72b606d7f0b0f771ea4956a8b4d6.woff2\" rel=\"preload\" type=\"font/woff2\"/><link as=\"font\" crossorigin=\"anonymous\" href=\"https://encore.scdn.co/fonts/CircularSpTitle-Black-3f9afb402080d53345ca1850226ca724.woff2\" rel=\"preload\" type=\"font/woff2\"/><link as=\"font\" crossorigin=\"anonymous\" href=\"https://open.spotifycdn.com/cdn/fonts/spoticon_regular_2.d728648c.woff2\" rel=\"preload\" type=\"font/woff2\"/><meta content=\"Spotify is a digital music service that gives you access to millions of songs.\" name=\"description\"/><meta content=\"notranslate\" name=\"google\"/><meta content=\"Spotify - Web Player: Music for everyone\" property=\"og:title\"/><meta content=\"Spotify is a digital music service that gives you access to millions of songs.\" property=\"og:description\"/><meta content=\"https://open.spotify.com/\" property=\"og:url\"/><meta content=\"https://open.spotifycdn.com/cdn/images/og-image.548bc4b7.png\" property=\"og:image\"/><meta content=\"website\" property=\"og:type\"/><meta content=\"Spotify\" property=\"og:site_name\"/><meta content=\"Spotify\" name=\"al:android:app_name\"/><meta content=\"com.spotify.music\" name=\"al:android:package\"/><meta content=\"spotify://\" name=\"al:android:url\"/><meta content=\"Spotify\" name=\"al:ios:app_name\"/><meta content=\"324684580\" name=\"al:ios:app_store_id\"/><meta content=\"spotify://\" name=\"al:ios:url\"/><meta content=\"@spotify\" name=\"twitter:site\"/><meta content=\"Spotify - Web Player: Music for everyone\" name=\"twitter:title\"/><meta content=\"Spotify is a digital music service that gives you access to millions of songs.\" name=\"twitter:description\"/><meta content=\"https://open.spotifycdn.com/cdn/images/og-image.548bc4b7.png\" name=\"twitter:image\"/><meta content=\"summary\" name=\"twitter:card\"/><link href=\"https://open.spotify.com/\" rel=\"canonical\"/><link href=\"https://open.spotify.com/\" hreflang=\"x-default\" rel=\"alternate\"/><link href=\"https://open.spotify.com/\" hreflang=\"en\" rel=\"alternate\"/><link href=\"android-app://com.spotify.music/\" rel=\"alternate\"/><link href=\"https://open.spotifycdn.com/cdn/generated/manifest-mobile-web-player.a1ddf51c.json\" rel=\"manifest\"/><style data-styled=\"active\"></style><style data-styled=\"\" data-styled-version=\"5.3.6\">.gpPiwK{fill:var(--essential-base,#000000);-webkit-animation:oaGcb 1.32s linear infinite;animation:oaGcb 1.32s linear infinite;-webkit-transform-origin:center;-ms-transform-origin:center;transform-origin:center;}/*!sc*/\n",
            ".gpPiwK:nth-of-type(2){-webkit-animation-delay:0.1s;animation-delay:0.1s;}/*!sc*/\n",
            ".gpPiwK:nth-of-type(3){-webkit-animation-delay:0.2s;animation-delay:0.2s;}/*!sc*/\n",
            "[dir='rtl'] .LoadingIndicatorCircle-sc-enjajd-0:nth-of-type(1){-webkit-animation-delay:0.2s;animation-delay:0.2s;}/*!sc*/\n",
            "[dir='rtl'] .LoadingIndicatorCircle-sc-enjajd-0:nth-of-type(3){-webkit-animation-delay:0s;animation-delay:0s;}/*!sc*/\n",
            "data-styled.g31[id=\"LoadingIndicatorCircle-sc-enjajd-0\"]{content:\"gpPiwK,\"}/*!sc*/\n",
            ".JQmZa{content:'';-webkit-block-size:18.666666666666668px;-ms-flex-block-size:18.666666666666668px;block-size:18.666666666666668px;inline-size:84px;}/*!sc*/\n",
            "data-styled.g32[id=\"LoadingIndicatorSvg-sc-dj4dcm-0\"]{content:\"JQmZa,\"}/*!sc*/\n",
            "@-webkit-keyframes oaGcb{0%{-webkit-animation-timing-function:cubic-bezier(1,0,0.7,1);animation-timing-function:cubic-bezier(1,0,0.7,1);opacity:0.5;-webkit-transform:scale(1);-ms-transform:scale(1);transform:scale(1);}40%{-webkit-animation-timing-function:cubic-bezier(0.3,0,0,1);animation-timing-function:cubic-bezier(0.3,0,0,1);opacity:0.75;-webkit-transform:scale(1.3);-ms-transform:scale(1.3);transform:scale(1.3);}72.5%{-webkit-animation-timing-function:linear;animation-timing-function:linear;opacity:0.5;-webkit-transform:scale(1);-ms-transform:scale(1);transform:scale(1);}100%{opacity:0.5;-webkit-transform:scale(1);-ms-transform:scale(1);transform:scale(1);}}/*!sc*/\n",
            "@keyframes oaGcb{0%{-webkit-animation-timing-function:cubic-bezier(1,0,0.7,1);animation-timing-function:cubic-bezier(1,0,0.7,1);opacity:0.5;-webkit-transform:scale(1);-ms-transform:scale(1);transform:scale(1);}40%{-webkit-animation-timing-function:cubic-bezier(0.3,0,0,1);animation-timing-function:cubic-bezier(0.3,0,0,1);opacity:0.75;-webkit-transform:scale(1.3);-ms-transform:scale(1.3);transform:scale(1.3);}72.5%{-webkit-animation-timing-function:linear;animation-timing-function:linear;opacity:0.5;-webkit-transform:scale(1);-ms-transform:scale(1);transform:scale(1);}100%{opacity:0.5;-webkit-transform:scale(1);-ms-transform:scale(1);transform:scale(1);}}/*!sc*/\n",
            "data-styled.g118[id=\"sc-keyframes-oaGcb\"]{content:\"oaGcb,\"}/*!sc*/\n",
            "</style><link href=\"https://open.spotifycdn.com/cdn/build/mobile-web-player/mwp-artist-page.405d5b0f.css\" rel=\"stylesheet\"/><link href=\"https://open.spotifycdn.com/cdn/build/mobile-web-player/mwp-dialog-container.656c585c.css\" rel=\"stylesheet\"/><link href=\"https://open.spotifycdn.com/cdn/build/mobile-web-player/mwp-context-menu-container.dbfddf65.css\" rel=\"stylesheet\"/><link href=\"https://open.spotifycdn.com/cdn/build/mobile-web-player/mwp-connect-view-container.1de5bfb2.css\" rel=\"stylesheet\"/><link href=\"https://open.spotifycdn.com/cdn/build/mobile-web-player/mwp-now-playing-view.8092ac85.css\" rel=\"stylesheet\"/><link href=\"https://open.spotifycdn.com/cdn/build/mobile-web-player/mwp-home.c82f3f4a.css\" rel=\"stylesheet\"/><link href=\"https://open.spotifycdn.com/cdn/build/mobile-web-player/mobile-web-player.2fa5422b.css\" rel=\"stylesheet\"/><link crossorigin=\"anonymous\" href=\"https://api.spotify.com\" rel=\"preconnect\"/><link crossorigin=\"anonymous\" href=\"https://apresolve.spotify.com\" rel=\"preconnect\"/><link crossorigin=\"anonymous\" href=\"https://daily-mix.scdn.co\" rel=\"preconnect\"/><link crossorigin=\"anonymous\" href=\"https://exp.wg.spotify.com\" rel=\"preconnect\"/><link crossorigin=\"anonymous\" href=\"https://i.scdn.co\" rel=\"preconnect\"/><link crossorigin=\"anonymous\" href=\"https://lineup-images.scdn.co\" rel=\"preconnect\"/><link crossorigin=\"anonymous\" href=\"https://mosaic.scdn.co\" rel=\"preconnect\"/><link crossorigin=\"anonymous\" href=\"https://open.spotifycdn.com\" rel=\"preconnect\"/><link crossorigin=\"anonymous\" href=\"https://pixel-static.spotify.com\" rel=\"preconnect\"/><link crossorigin=\"anonymous\" href=\"https://pixel.spotify.com\" rel=\"preconnect\"/><link crossorigin=\"anonymous\" href=\"https://pl.scdn.co\" rel=\"preconnect\"/><link crossorigin=\"anonymous\" href=\"https://spclient.wg.spotify.com\" rel=\"preconnect\"/><link crossorigin=\"anonymous\" href=\"https://open.spotifycdn.com\" rel=\"preconnect\"/><link crossorigin=\"anonymous\" href=\"https://gue1-dealer.spotify.com\" rel=\"preconnect\"/><link crossorigin=\"anonymous\" href=\"https://gue1-spclient.spotify.com\" rel=\"preconnect\"/><link as=\"fetch\" crossorigin=\"anonymous\" data-translations-url-for-locale=\"en\" href=\"https://open.spotifycdn.com/cdn/generated-locales/mobile-web-player/en.f1a3268a.json\" rel=\"preload\" type=\"application/json\"/><link href=\"https://open.spotifycdn.com/cdn/generated/opensearch.4cd8879e.xml\" rel=\"search\" title=\"Spotify\" type=\"application/opensearchdescription+xml\"/><script defer=\"\" src=\"https://www.googleoptimize.com/optimize.js?id=GTM-W53X654\"></script><script defer=\"\" src=\"https://open.spotifycdn.com/cdn/js/gtm.c527b62e.js\"></script><script defer=\"\" src=\"https://open.spotifycdn.com/cdn/js/retargeting-pixels.c038ca53.js\"></script><script crossorigin=\"anonymous\" defer=\"\" src=\"https://cdn.speedcurve.com/js/lux.js?id=4310329957\"></script></head>\n"
          ]
        }
      ]
    }
  ]
}